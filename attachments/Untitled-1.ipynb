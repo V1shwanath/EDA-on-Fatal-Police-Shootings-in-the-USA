{
 "cells": [
  {
   "cell_type": "code",
   "execution_count": 9,
   "metadata": {},
   "outputs": [],
   "source": [
    "import pandas as pd\n",
    "import numpy as np\n",
    "from scipy.stats import poisson \n"
   ]
  },
  {
   "cell_type": "code",
   "execution_count": 7,
   "metadata": {},
   "outputs": [],
   "source": [
    "df_race=pd.read_csv(\"race-updated.csv\")\n",
    "df_shooting=pd.read_csv(\"fatal-police-shootings-data.csv\")"
   ]
  },
  {
   "cell_type": "code",
   "execution_count": 6,
   "metadata": {},
   "outputs": [
    {
     "name": "stdout",
     "output_type": "stream",
     "text": [
      "[113, 3204, 1135, 1695, 100, 46]\n"
     ]
    }
   ],
   "source": [
    "races = [\"A\", \"W\", \"H\", \"B\", \"N\", \"O\"]\n",
    "killed_per_race = []\n",
    "\n",
    "for i in races:\n",
    "    i_killings = df_shooting.race.loc[(df_shooting.race==i)].count()\n",
    "    killed_per_race.append(i_killings)\n",
    "    \n",
    "print (killed_per_race)"
   ]
  },
  {
   "cell_type": "code",
   "execution_count": 10,
   "metadata": {},
   "outputs": [],
   "source": [
    "df_race[\"wtotal\"]=pd.Series(df_race[\"WhiteTotal\"].sum())\n",
    "df_race[\"btotal\"]=pd.Series(df_race[\"BlackTotal\"].sum())\n",
    "df_race[\"itotal\"]=pd.Series(df_race[\"IndianTotal\"].sum())\n",
    "df_race[\"atotal\"]=pd.Series(df_race[\"AsianTotal\"].sum())\n",
    "df_race[\"htotal\"]=pd.Series(df_race[\"HawaiianTotal\"].sum())\n",
    "df_race[\"ototal\"]=pd.Series(df_race[\"OtherTotal\"].sum())"
   ]
  },
  {
   "cell_type": "code",
   "execution_count": 12,
   "metadata": {},
   "outputs": [
    {
     "name": "stdout",
     "output_type": "stream",
     "text": [
      "6.132133142828397e-06\n",
      "1.3815509922709725e-05\n",
      "1.3301369948573434e-06\n",
      "4.074980604775204e-05\n",
      "3.711524022282506e-05\n",
      "1.3301369948573434e-06\n"
     ]
    }
   ],
   "source": [
    "prop_killed_per_race = []\n",
    "\n",
    "for i in races:\n",
    "    \n",
    "    if i == \"A\":\n",
    "        prop_i_killed = killed_per_race[0]/18427519.0\n",
    "        print (prop_i_killed)\n",
    "    elif i == \"W\":\n",
    "        prop_i_killed = killed_per_race[1]/231913264.0\n",
    "        print (prop_i_killed)\n",
    "    elif i == \"B\":\n",
    "        prop_i_killed = killed_per_race[3]/41595290.0\n",
    "        print (prop_i_killed)\n",
    "    elif i == \"N\":\n",
    "        prop_i_killed = killed_per_race[4]/2694311.0\n",
    "        print (prop_i_killed)\n",
    "    else:\n",
    "        prop_i_killed = killed_per_race[5]/34582904.0\n",
    "\n",
    "        print (prop_i_killed)\n",
    "    \n",
    "    prop_killed_per_race.append(prop_i_killed)"
   ]
  },
  {
   "cell_type": "code",
   "execution_count": 1,
   "metadata": {},
   "outputs": [],
   "source": [
    "import matplotlib.pyplot as plt"
   ]
  },
  {
   "cell_type": "code",
   "execution_count": 3,
   "metadata": {},
   "outputs": [],
   "source": [
    "pop_r = {'W': 60.7, # white - % population by race \n",
    "         'B': 13.4, # black or african american\n",
    "         'H': 18.1, # hispanic or latino\n",
    "         'A': 5.8,  # asian\n",
    "         'N': 1.5,  # american indian, alaska native, naitive hawaiian, and other pacific islander\n",
    "         'O': 0.5}  # other"
   ]
  },
  {
   "cell_type": "code",
   "execution_count": 10,
   "metadata": {},
   "outputs": [
    {
     "data": {
      "image/png": "[encoded data removed]",
      "text/plain": [
       "<Figure size 432x288 with 1 Axes>"
      ]
     },
     "metadata": {
      "needs_background": "light"
     },
     "output_type": "display_data"
    }
   ],
   "source": [
    "# Compute the cumulative Poisson distribution value for each race\n",
    "cum_poisson_vals = []\n",
    "for race in pop_r.keys():\n",
    "    lam = df_shooting.shape[0]*pop_r[race]/100 #shootings if matched avg\n",
    "    k = df_shooting[df_shooting.race==race].shape[0] #actual number of shootings\n",
    "    cum_poisson_vals.append(poisson.cdf(k, lam))\n",
    "\n",
    "\n",
    "# Plot cumulative Poisson distribution values\n",
    "plt.figure()\n",
    "EK = pd.DataFrame(data={'race': list(pop_r.keys()), \n",
    "                        'cum_poisson': cum_poisson_vals})\n",
    "EK.sort_values('cum_poisson', inplace=True)\n",
    "\n",
    "y = np.arange(len(EK.race))\n",
    "plt.barh(y, EK.cum_poisson-0.5, left=0.5)\n",
    "plt.plot([0.5, 0.5], [y[0]-1, y[-1]+1], 'k', linewidth=2)\n",
    "ax = plt.gca()\n",
    "ax.set_yticks(y)\n",
    "ax.set_yticklabels(EK.race)\n",
    "ax.invert_yaxis()\n",
    "plt.title('Police Shootings: Cumulative Probability\\n' +\n",
    "          'given national average, by Race')\n",
    "plt.ylabel('Race')\n",
    "plt.xlabel('Cumulative Poisson Probability')\n",
    "plt.text(0.506, y[0]-0.75, \n",
    "         (r'Less shootings \\\\( \\leftarrow \\\\)' + \n",
    "          r'\\\\( \\rightarrow \\\\) More shootings'),\n",
    "         horizontalalignment='center', color='gray')\n",
    "plt.show()"
   ]
  },
  {
   "cell_type": "code",
   "execution_count": 13,
   "metadata": {},
   "outputs": [
    {
     "ename": "PermissionError",
     "evalue": "[Errno 13] Permission denied: 'C:\\\\Users\\\\renur\\\\OneDrive\\\\Documents\\\\My Tableau Repository\\\\Datasources\\\\BIDV project'",
     "output_type": "error",
     "traceback": [
      "\u001b[1;31m---------------------------------------------------------------------------\u001b[0m",
      "\u001b[1;31mPermissionError\u001b[0m                           Traceback (most recent call last)",
      "\u001b[1;32m<ipython-input-13-7160e37b35a3>\u001b[0m in \u001b[0;36m<module>\u001b[1;34m\u001b[0m\n\u001b[1;32m----> 1\u001b[1;33m \u001b[0mEK\u001b[0m\u001b[1;33m.\u001b[0m\u001b[0mto_csv\u001b[0m\u001b[1;33m(\u001b[0m\u001b[1;34mr\"C:\\Users\\renur\\OneDrive\\Documents\\My Tableau Repository\\Datasources\\BIDV project\"\u001b[0m\u001b[1;33m)\u001b[0m\u001b[1;33m\u001b[0m\u001b[1;33m\u001b[0m\u001b[0m\n\u001b[0m",
      "\u001b[1;32mc:\\Users\\renur\\anaconda3\\lib\\site-packages\\pandas\\core\\generic.py\u001b[0m in \u001b[0;36mto_csv\u001b[1;34m(self, path_or_buf, sep, na_rep, float_format, columns, header, index, index_label, mode, encoding, compression, quoting, quotechar, line_terminator, chunksize, date_format, doublequote, escapechar, decimal, errors, storage_options)\u001b[0m\n\u001b[0;32m   3385\u001b[0m         )\n\u001b[0;32m   3386\u001b[0m \u001b[1;33m\u001b[0m\u001b[0m\n\u001b[1;32m-> 3387\u001b[1;33m         return DataFrameRenderer(formatter).to_csv(\n\u001b[0m\u001b[0;32m   3388\u001b[0m             \u001b[0mpath_or_buf\u001b[0m\u001b[1;33m,\u001b[0m\u001b[1;33m\u001b[0m\u001b[1;33m\u001b[0m\u001b[0m\n\u001b[0;32m   3389\u001b[0m             \u001b[0mline_terminator\u001b[0m\u001b[1;33m=\u001b[0m\u001b[0mline_terminator\u001b[0m\u001b[1;33m,\u001b[0m\u001b[1;33m\u001b[0m\u001b[1;33m\u001b[0m\u001b[0m\n",
      "\u001b[1;32mc:\\Users\\renur\\anaconda3\\lib\\site-packages\\pandas\\io\\formats\\format.py\u001b[0m in \u001b[0;36mto_csv\u001b[1;34m(self, path_or_buf, encoding, sep, columns, index_label, mode, compression, quoting, quotechar, line_terminator, chunksize, date_format, doublequote, escapechar, errors, storage_options)\u001b[0m\n\u001b[0;32m   1081\u001b[0m             \u001b[0mformatter\u001b[0m\u001b[1;33m=\u001b[0m\u001b[0mself\u001b[0m\u001b[1;33m.\u001b[0m\u001b[0mfmt\u001b[0m\u001b[1;33m,\u001b[0m\u001b[1;33m\u001b[0m\u001b[1;33m\u001b[0m\u001b[0m\n\u001b[0;32m   1082\u001b[0m         )\n\u001b[1;32m-> 1083\u001b[1;33m         \u001b[0mcsv_formatter\u001b[0m\u001b[1;33m.\u001b[0m\u001b[0msave\u001b[0m\u001b[1;33m(\u001b[0m\u001b[1;33m)\u001b[0m\u001b[1;33m\u001b[0m\u001b[1;33m\u001b[0m\u001b[0m\n\u001b[0m\u001b[0;32m   1084\u001b[0m \u001b[1;33m\u001b[0m\u001b[0m\n\u001b[0;32m   1085\u001b[0m         \u001b[1;32mif\u001b[0m \u001b[0mcreated_buffer\u001b[0m\u001b[1;33m:\u001b[0m\u001b[1;33m\u001b[0m\u001b[1;33m\u001b[0m\u001b[0m\n",
      "\u001b[1;32mc:\\Users\\renur\\anaconda3\\lib\\site-packages\\pandas\\io\\formats\\csvs.py\u001b[0m in \u001b[0;36msave\u001b[1;34m(self)\u001b[0m\n\u001b[0;32m    226\u001b[0m         \"\"\"\n\u001b[0;32m    227\u001b[0m         \u001b[1;31m# apply compression and byte/text conversion\u001b[0m\u001b[1;33m\u001b[0m\u001b[1;33m\u001b[0m\u001b[1;33m\u001b[0m\u001b[0m\n\u001b[1;32m--> 228\u001b[1;33m         with get_handle(\n\u001b[0m\u001b[0;32m    229\u001b[0m             \u001b[0mself\u001b[0m\u001b[1;33m.\u001b[0m\u001b[0mfilepath_or_buffer\u001b[0m\u001b[1;33m,\u001b[0m\u001b[1;33m\u001b[0m\u001b[1;33m\u001b[0m\u001b[0m\n\u001b[0;32m    230\u001b[0m             \u001b[0mself\u001b[0m\u001b[1;33m.\u001b[0m\u001b[0mmode\u001b[0m\u001b[1;33m,\u001b[0m\u001b[1;33m\u001b[0m\u001b[1;33m\u001b[0m\u001b[0m\n",
      "\u001b[1;32mc:\\Users\\renur\\anaconda3\\lib\\site-packages\\pandas\\io\\common.py\u001b[0m in \u001b[0;36mget_handle\u001b[1;34m(path_or_buf, mode, encoding, compression, memory_map, is_text, errors, storage_options)\u001b[0m\n\u001b[0;32m    640\u001b[0m                 \u001b[0merrors\u001b[0m \u001b[1;33m=\u001b[0m \u001b[1;34m\"replace\"\u001b[0m\u001b[1;33m\u001b[0m\u001b[1;33m\u001b[0m\u001b[0m\n\u001b[0;32m    641\u001b[0m             \u001b[1;31m# Encoding\u001b[0m\u001b[1;33m\u001b[0m\u001b[1;33m\u001b[0m\u001b[1;33m\u001b[0m\u001b[0m\n\u001b[1;32m--> 642\u001b[1;33m             handle = open(\n\u001b[0m\u001b[0;32m    643\u001b[0m                 \u001b[0mhandle\u001b[0m\u001b[1;33m,\u001b[0m\u001b[1;33m\u001b[0m\u001b[1;33m\u001b[0m\u001b[0m\n\u001b[0;32m    644\u001b[0m                 \u001b[0mioargs\u001b[0m\u001b[1;33m.\u001b[0m\u001b[0mmode\u001b[0m\u001b[1;33m,\u001b[0m\u001b[1;33m\u001b[0m\u001b[1;33m\u001b[0m\u001b[0m\n",
      "\u001b[1;31mPermissionError\u001b[0m: [Errno 13] Permission denied: 'C:\\\\Users\\\\renur\\\\OneDrive\\\\Documents\\\\My Tableau Repository\\\\Datasources\\\\BIDV project'"
     ]
    }
   ],
   "source": [
    "EK.to_csv(r\"C:\\Users\\renur\\OneDrive\\Documents\\My Tableau Repository\\Datasources\\BIDV project\")"
   ]
  }
 ],
 "metadata": {
  "kernelspec": {
   "display_name": "Python 3.8.8 ('base')",
   "language": "python",
   "name": "python3"
  },
  "language_info": {
   "codemirror_mode": {
    "name": "ipython",
    "version": 3
   },
   "file_extension": ".py",
   "mimetype": "text/x-python",
   "name": "python",
   "nbconvert_exporter": "python",
   "pygments_lexer": "ipython3",
   "version": "3.8.8"
  },
  "orig_nbformat": 4,
  "vscode": {
   "interpreter": {
    "hash": "b88b7b0954a71214a6ba088124023ef170ced6c3e9a4fc9be2fc0e220dfce213"
   }
  }
 },
 "nbformat": 4,
 "nbformat_minor": 2
}
